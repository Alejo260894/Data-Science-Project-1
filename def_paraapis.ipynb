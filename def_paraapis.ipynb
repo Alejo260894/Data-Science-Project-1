{
 "cells": [
  {
   "cell_type": "code",
   "execution_count": 27,
   "metadata": {},
   "outputs": [],
   "source": [
    "import pandas as pd\n",
    "import pyarrow as pa\n",
    "import pyarrow.parquet as pq\n",
    "from scipy.sparse import csr_matrix\n",
    "from sklearn.metrics.pairwise import cosine_similarity\n",
    "import pickle\n",
    "\n",
    "def developer(desarrollador):\n",
    "    '''\n",
    "    Esta función devuelve información sobre una empresa desarrolladora de videojuegos.\n",
    "         \n",
    "    Args:\n",
    "        desarrollador (str): Nombre del desarrollador de videojuegos.\n",
    "    \n",
    "    Returns:\n",
    "        dict: Un diccionario que contiene información sobre la empresa desarrolladora.\n",
    "            - 'cantidad_por_año' (dict): Cantidad de items desarrollados por año.\n",
    "            - 'porcentaje_gratis_por_año' (dict): Porcentaje de contenido gratuito por año según la empresa desarrolladora.\n",
    "    '''\n",
    "    df_items_developer = pd.read_parquet('arch_parquet/df_items_developer.parquet')\n",
    "    # Filtra el dataframe por desarrollador de interés\n",
    "    data_filtrada = df_items_developer[df_items_developer['developer'] == desarrollador]\n",
    "    # Calcula la cantidad de items por año\n",
    "    cantidad_por_año = data_filtrada.groupby('año_lanzamiento')['item_id'].count()\n",
    "    # Calcula la cantidad de elementos gratis por año\n",
    "    cantidad_gratis_por_año = data_filtrada[data_filtrada['price'] == 0.0].groupby('año_lanzamiento')['item_id'].count()\n",
    "    # Calcula el porcentaje de elementos gratis por año\n",
    "    porcentaje_gratis_por_año = (cantidad_gratis_por_año / cantidad_por_año * 100).fillna(0).astype(int) +'%'\n",
    "\n",
    "    result_dict = {\n",
    "        'cantidad_items_por_año': cantidad_por_año.to_dict(),\n",
    "        'porcentaje_gratis_por_año': porcentaje_gratis_por_año.to_dict() \n",
    "    }\n",
    "    \n",
    "    return result_dict\n",
    "\n",
    "def userdata(user_id):\n",
    "    '''\n",
    "    Esta función devuelve información sobre un usuario según su 'user_id'.\n",
    "         \n",
    "    Args:\n",
    "        user_id (str): Identificador único del usuario.\n",
    "    \n",
    "    Returns:\n",
    "        dict: Un diccionario que contiene información sobre el usuario.\n",
    "            - 'cantidad_dinero' (int): Cantidad de dinero gastado por el usuario.\n",
    "            - 'porcentaje_recomendacion' (float): Porcentaje de recomendaciones realizadas por el usuario.\n",
    "            - 'total_items' (int): Cantidad de items que tiene el usuario.\n",
    "    '''\n",
    "    df_reviews = pd.read_parquet('arch_parquet/df_reviews.parquet')\n",
    "    df_gastos_items = pd.read_parquet('arch_parquet/gastos_items.parquet')\n",
    "    # Filtra por el usuario de interés\n",
    "    usuario = df_reviews[df_reviews['user_id'] == user_id]\n",
    "    # Calcula la cantidad de dinero gastado para el usuario de interés\n",
    "    cantidad_dinero = df_gastos_items[df_gastos_items['user_id']== user_id]['price'].iloc[0]\n",
    "    # Busca el count_item para el usuario de interés    \n",
    "    count_items = df_gastos_items[df_gastos_items['user_id']== user_id]['items_count'].iloc[0]\n",
    "    \n",
    "    # Calcula el total de recomendaciones realizadas por el usuario de interés\n",
    "    total_recomendaciones = usuario['reviews_recommend'].sum()\n",
    "    # Calcula el total de reviews realizada por todos los usuarios\n",
    "    total_reviews = len(df_reviews['user_id'].unique())\n",
    "    # Calcula el porcentaje de recomendaciones realizadas por el usuario de interés\n",
    "    porcentaje_recomendaciones = (total_recomendaciones / total_reviews) * 100\n",
    "\n",
    "    \n",
    "    return {\n",
    "        'Dinero Gastado': str(int(cantidad_dinero)) + ' USD',\n",
    "        '% de recomendación': str(round(float(porcentaje_recomendaciones), 2)*100) +' %',\n",
    "        'Cantidad de items': int(count_items)\n",
    "    }\n",
    "\n",
    "\n",
    "def get_playtime_by_genre2(genero: str):\n",
    "    df_año_horas = pd.read_parquet('arch_parquet\\df_anio_horas.parquet')\n",
    "    df_año_horas = df_año_horas[['genres','año_lanzamiento','playtime_horas']]\n",
    "    df_filtrado = df_año_horas[df_año_horas['genres'] == genero]\n",
    "    if df_filtrado.empty:\n",
    "        return {\"message\": f\"No data found for genre: {genero}\"}\n",
    "    playtime_sum = df_filtrado.groupby('año_lanzamiento')['playtime_horas'].sum() \n",
    "    año_max_jugado = playtime_sum.idxmax()\n",
    "    max_playtime = playtime_sum.max()\n",
    "    del df_año_horas, df_filtrado, playtime_sum\n",
    "    return {\"Año de lanzamiento con más horas jugadas para el género: \" + genero : str(año_max_jugado), \"Horas jugadas\": str(max_playtime)}\n",
    "\n",
    "def UserForGenre(genero: str):\n",
    "    try:\n",
    "        df_año_horas = pd.read_parquet('arch_parquet\\df_anio_horas.parquet')\n",
    "        df_año_horas = df_año_horas[['genres','user_id', 'año_lanzamiento','playtime_horas']]\n",
    "        df_filtrado = df_año_horas[df_año_horas['genres'] == genero]\n",
    "        playtime_sum = df_filtrado.groupby(['user_id', 'año_lanzamiento'])['playtime_horas'].sum() \n",
    "        user_max_playtime = playtime_sum.groupby('user_id').sum().idxmax()\n",
    "        playtime_by_year = playtime_sum.loc[user_max_playtime].to_dict()\n",
    "        del df_año_horas, df_filtrado, playtime_sum\n",
    "        return {\"Usuario con más horas jugadas para el género: \" + genero : user_max_playtime, \"Horas jugadas\": playtime_by_year}\n",
    "    except Exception as e:\n",
    "        return {\"error\": str(e)}\n",
    "\n",
    "def get_users_recommend(año: int):\n",
    "    review_games = pd.read_parquet('arch_parquet\\df_reviews.parquet')\n",
    "    review_games = review_games[['developer','año_lanzamiento','title', 'reviews_recommend','sentiment_analysis']]\n",
    "    df_filtered = review_games[(review_games['año_lanzamiento'] == año) & (review_games['reviews_recommend'] == True) & (review_games['sentiment_analysis'] >= 1)]\n",
    "    recommend_count = df_filtered['title'].value_counts()\n",
    "    top_3_games = recommend_count.nlargest(3).index.tolist()\n",
    "    del review_games, df_filtered, recommend_count\n",
    "    return [{\"Puesto 1\" : top_3_games[0]}, {\"Puesto 2\" : top_3_games[1]}, {\"Puesto 3\" : top_3_games[2]}]\n",
    "\n",
    "def get_best_developer(año: int):\n",
    "    review_games = pd.read_parquet('arch_parquet\\df_reviews.parquet')\n",
    "    review_games = review_games[['developer','año_lanzamiento','reviews_recommend', 'sentiment_analysis']]\n",
    "    df_filtered = review_games[(review_games['año_lanzamiento'] == año) & (review_games['reviews_recommend'] == True) & (review_games['sentiment_analysis'] >= 1)]\n",
    "    positive_reviws_count = df_filtered['developer'].value_counts()\n",
    "    top_3_best_developers = positive_reviws_count.nlargest(3).index.tolist()\n",
    "    del review_games, df_filtered, positive_reviws_count\n",
    "    return [{\"Puesto 1\" : top_3_best_developers[0]}, {\"Puesto 2\" : top_3_best_developers[1]}, {\"Puesto 3\" : top_3_best_developers[2]}]\n",
    "\n",
    "def get_worst_developer(año: int):\n",
    "    review_games = pd.read_parquet('arch_parquet\\df_reviews.parquet')\n",
    "    review_games = review_games[['developer','año_lanzamiento','reviews_recommend', 'sentiment_analysis']]\n",
    "    df_filtered = review_games[(review_games['año_lanzamiento'] == año) & (review_games['reviews_recommend'] == False) & (review_games['sentiment_analysis'] == 0)]\n",
    "    negative_reviews_count = df_filtered['developer'].value_counts()\n",
    "    top_3_bad_developers = negative_reviews_count.nlargest(3).index.tolist()\n",
    "    del review_games, df_filtered, negative_reviews_count\n",
    "    return [{\"Puesto 1\" : top_3_bad_developers[0]}, {\"Puesto 2\" : top_3_bad_developers[1]}, {\"Puesto 3\" : top_3_bad_developers[2]}]\n",
    "\n",
    "def developer_reviews_analysis(developer:str):\n",
    "    \"\"\"\n",
    "    Esta funcion calcula para un desarrolador la cantidad de usuarios con reviews positivas y negativas.\n",
    "    params:\n",
    "    developer_rec:str : Desarrolador\n",
    "    \"\"\"\n",
    "    # Carga los datos de los juegos de steam\n",
    "    df_games = pd.read_csv('Datasets_limpio/steam_games.csv')\n",
    "    # Tomo solo un 10% de mi df:\n",
    "    df_games= df_games.sample(frac=0.1,random_state=42)\n",
    "    # Carga las revisiones de los usuarios\n",
    "    df_reviews = pd.read_csv('Datasets_limpio/df_reviews.csv')\n",
    "    # Tomo solo un 10% de mi df:\n",
    "    #df_reviews= df_reviews.sample(frac=0.1,random_state=42)\n",
    "    df_games['id'] = df_games['id'].astype(int)\n",
    "    df_reviews['reviews_item_id'] = df_reviews['reviews_item_id'].astype(int)\n",
    "    # Merging los dos datasets, con una combinación interna en sus respectivos 'id'\n",
    "    func_5 = pd.merge(df_reviews,df_games,left_on='reviews_item_id',right_on='id',how='inner')\n",
    "    # Convertir todos los nombres de los desarrolladores en letras minúsculas para evitar la duplicación de datos debido a las diferencias de mayúsculas y minúsculas\n",
    "    func_5['developer_x'] = func_5['developer_x'].str.lower()\n",
    "    # Convertir el nombre del desarrollador proporcionado en letras minúsculas\n",
    "    developer2 = developer.lower()\n",
    "    # Filtrar por desarrollador\n",
    "    func_5 = func_5[func_5['developer_x'] == developer2]\n",
    "    # Verificar si se encuentra los juegos del desarrollador en el dataset\n",
    "    if func_5.empty:\n",
    "        # En caso de que no se encuentre, se muestra mensaje indicando que no hay comentarios para este desarrollador\n",
    "        return 'No se encontraron reviews para ese desarrollador'\n",
    "    # En caso contrario, contar los sentimientos de análisis de comentarios\n",
    "    # Cuenta los comentarios positivos\n",
    "    true_value = func_5[func_5['sentiment_analysis']==2]['sentiment_analysis'].count()\n",
    "    # Cuenta los comentarios negativos\n",
    "    false_value = func_5[func_5['sentiment_analysis']==0]['sentiment_analysis'].count()\n",
    "    # Devolver conteos en un diccionario\n",
    "    return {developer2:[f'Negative = {int(false_value)}',f'Positive = {int(true_value)}']}\n",
    "\n",
    "def recomendacion_juego(game):\n",
    "\n",
    "    '''\n",
    "    Muestra una lista de juegos similares a un juego dado.\n",
    "\n",
    "    Args:\n",
    "        game (str): El nombre del juego para el cual se desean encontrar juegos similares.\n",
    "  \n",
    "    Returns:\n",
    "        None: Un diccionario con 5 nombres de juegos recomendados.\n",
    "\n",
    "    '''\n",
    "    item_sim_df = pd.read_parquet('archivos_parquet/item_sim_df.parquet')\n",
    "    # Obtener la lista de juegos similares ordenados\n",
    "    similar_games = item_sim_df.sort_values(by=game, ascending=False).iloc[1:6]\n",
    "\n",
    "    count = 1\n",
    "    contador = 1\n",
    "    recomendaciones = {}\n",
    "    \n",
    "    for item in similar_games:\n",
    "        if contador <= 5:\n",
    "            item = str(item)\n",
    "            recomendaciones[count] = item\n",
    "            count += 1\n",
    "            contador += 1 \n",
    "        else:\n",
    "            break\n",
    "    return recomendaciones\n",
    "\n",
    "\n",
    "def get_recommendation(item_id: int):\n",
    "    df_final = pd.read_parquet('arch_parquet\\df_reviews.parquet')\n",
    "    df_final = df_final[['reviews_item_id', 'user_id', 'reviews_recommend','title']] \n",
    "    try:\n",
    "        with open('indices_similares.pkl', 'rb') as f:\n",
    "            indices_similares = pickle.load(f)\n",
    "    except FileNotFoundError:\n",
    "        sparse_matrix = csr_matrix(pd.crosstab(df_final['reviews_item_id'], df_final['user_id'], values=df_final['reviews_recommend'], aggfunc='sum').fillna(0))\n",
    "        similitud = cosine_similarity(sparse_matrix)\n",
    "        indices_similares = {item_id: similitud[item_index].argsort()[-6:-1][::-1] for item_index, item_id in enumerate(df_final['reviews_item_id'].unique().tolist())}\n",
    "        with open('indices_similares.pkl', 'wb') as f:\n",
    "            pickle.dump(indices_similares, f)\n",
    "        del sparse_matrix, similitud\n",
    "    similar_items = [df_final['title'].unique().tolist()[i] for i in indices_similares[item_id]]\n",
    "    del df_final\n",
    "    return similar_items"
   ]
  },
  {
   "cell_type": "code",
   "execution_count": 28,
   "metadata": {},
   "outputs": [
    {
     "ename": "FileNotFoundError",
     "evalue": "[Errno 2] No such file or directory: 'archivos_parquet/item_sim_df.parquet'",
     "output_type": "error",
     "traceback": [
      "\u001b[1;31m---------------------------------------------------------------------------\u001b[0m",
      "\u001b[1;31mFileNotFoundError\u001b[0m                         Traceback (most recent call last)",
      "Cell \u001b[1;32mIn[28], line 1\u001b[0m\n\u001b[1;32m----> 1\u001b[0m \u001b[43mrecomendacion_juego\u001b[49m\u001b[43m(\u001b[49m\u001b[38;5;241;43m643980\u001b[39;49m\u001b[43m)\u001b[49m\n",
      "Cell \u001b[1;32mIn[27], line 174\u001b[0m, in \u001b[0;36mrecomendacion_juego\u001b[1;34m(game)\u001b[0m\n\u001b[0;32m    162\u001b[0m \u001b[38;5;28;01mdef\u001b[39;00m \u001b[38;5;21mrecomendacion_juego\u001b[39m(game):\n\u001b[0;32m    164\u001b[0m \u001b[38;5;250m    \u001b[39m\u001b[38;5;124;03m'''\u001b[39;00m\n\u001b[0;32m    165\u001b[0m \u001b[38;5;124;03m    Muestra una lista de juegos similares a un juego dado.\u001b[39;00m\n\u001b[0;32m    166\u001b[0m \n\u001b[1;32m   (...)\u001b[0m\n\u001b[0;32m    172\u001b[0m \n\u001b[0;32m    173\u001b[0m \u001b[38;5;124;03m    '''\u001b[39;00m\n\u001b[1;32m--> 174\u001b[0m     item_sim_df \u001b[38;5;241m=\u001b[39m \u001b[43mpd\u001b[49m\u001b[38;5;241;43m.\u001b[39;49m\u001b[43mread_parquet\u001b[49m\u001b[43m(\u001b[49m\u001b[38;5;124;43m'\u001b[39;49m\u001b[38;5;124;43marchivos_parquet/item_sim_df.parquet\u001b[39;49m\u001b[38;5;124;43m'\u001b[39;49m\u001b[43m)\u001b[49m\n\u001b[0;32m    175\u001b[0m     \u001b[38;5;66;03m# Obtener la lista de juegos similares ordenados\u001b[39;00m\n\u001b[0;32m    176\u001b[0m     similar_games \u001b[38;5;241m=\u001b[39m item_sim_df\u001b[38;5;241m.\u001b[39msort_values(by\u001b[38;5;241m=\u001b[39mgame, ascending\u001b[38;5;241m=\u001b[39m\u001b[38;5;28;01mFalse\u001b[39;00m)\u001b[38;5;241m.\u001b[39miloc[\u001b[38;5;241m1\u001b[39m:\u001b[38;5;241m6\u001b[39m]\n",
      "File \u001b[1;32mc:\\Users\\Manuel\\Desktop\\HENRY\\Proyecto1\\Lib\\site-packages\\pandas\\io\\parquet.py:667\u001b[0m, in \u001b[0;36mread_parquet\u001b[1;34m(path, engine, columns, storage_options, use_nullable_dtypes, dtype_backend, filesystem, filters, **kwargs)\u001b[0m\n\u001b[0;32m    664\u001b[0m     use_nullable_dtypes \u001b[38;5;241m=\u001b[39m \u001b[38;5;28;01mFalse\u001b[39;00m\n\u001b[0;32m    665\u001b[0m check_dtype_backend(dtype_backend)\n\u001b[1;32m--> 667\u001b[0m \u001b[38;5;28;01mreturn\u001b[39;00m \u001b[43mimpl\u001b[49m\u001b[38;5;241;43m.\u001b[39;49m\u001b[43mread\u001b[49m\u001b[43m(\u001b[49m\n\u001b[0;32m    668\u001b[0m \u001b[43m    \u001b[49m\u001b[43mpath\u001b[49m\u001b[43m,\u001b[49m\n\u001b[0;32m    669\u001b[0m \u001b[43m    \u001b[49m\u001b[43mcolumns\u001b[49m\u001b[38;5;241;43m=\u001b[39;49m\u001b[43mcolumns\u001b[49m\u001b[43m,\u001b[49m\n\u001b[0;32m    670\u001b[0m \u001b[43m    \u001b[49m\u001b[43mfilters\u001b[49m\u001b[38;5;241;43m=\u001b[39;49m\u001b[43mfilters\u001b[49m\u001b[43m,\u001b[49m\n\u001b[0;32m    671\u001b[0m \u001b[43m    \u001b[49m\u001b[43mstorage_options\u001b[49m\u001b[38;5;241;43m=\u001b[39;49m\u001b[43mstorage_options\u001b[49m\u001b[43m,\u001b[49m\n\u001b[0;32m    672\u001b[0m \u001b[43m    \u001b[49m\u001b[43muse_nullable_dtypes\u001b[49m\u001b[38;5;241;43m=\u001b[39;49m\u001b[43muse_nullable_dtypes\u001b[49m\u001b[43m,\u001b[49m\n\u001b[0;32m    673\u001b[0m \u001b[43m    \u001b[49m\u001b[43mdtype_backend\u001b[49m\u001b[38;5;241;43m=\u001b[39;49m\u001b[43mdtype_backend\u001b[49m\u001b[43m,\u001b[49m\n\u001b[0;32m    674\u001b[0m \u001b[43m    \u001b[49m\u001b[43mfilesystem\u001b[49m\u001b[38;5;241;43m=\u001b[39;49m\u001b[43mfilesystem\u001b[49m\u001b[43m,\u001b[49m\n\u001b[0;32m    675\u001b[0m \u001b[43m    \u001b[49m\u001b[38;5;241;43m*\u001b[39;49m\u001b[38;5;241;43m*\u001b[39;49m\u001b[43mkwargs\u001b[49m\u001b[43m,\u001b[49m\n\u001b[0;32m    676\u001b[0m \u001b[43m\u001b[49m\u001b[43m)\u001b[49m\n",
      "File \u001b[1;32mc:\\Users\\Manuel\\Desktop\\HENRY\\Proyecto1\\Lib\\site-packages\\pandas\\io\\parquet.py:267\u001b[0m, in \u001b[0;36mPyArrowImpl.read\u001b[1;34m(self, path, columns, filters, use_nullable_dtypes, dtype_backend, storage_options, filesystem, **kwargs)\u001b[0m\n\u001b[0;32m    264\u001b[0m \u001b[38;5;28;01mif\u001b[39;00m manager \u001b[38;5;241m==\u001b[39m \u001b[38;5;124m\"\u001b[39m\u001b[38;5;124marray\u001b[39m\u001b[38;5;124m\"\u001b[39m:\n\u001b[0;32m    265\u001b[0m     to_pandas_kwargs[\u001b[38;5;124m\"\u001b[39m\u001b[38;5;124msplit_blocks\u001b[39m\u001b[38;5;124m\"\u001b[39m] \u001b[38;5;241m=\u001b[39m \u001b[38;5;28;01mTrue\u001b[39;00m  \u001b[38;5;66;03m# type: ignore[assignment]\u001b[39;00m\n\u001b[1;32m--> 267\u001b[0m path_or_handle, handles, filesystem \u001b[38;5;241m=\u001b[39m \u001b[43m_get_path_or_handle\u001b[49m\u001b[43m(\u001b[49m\n\u001b[0;32m    268\u001b[0m \u001b[43m    \u001b[49m\u001b[43mpath\u001b[49m\u001b[43m,\u001b[49m\n\u001b[0;32m    269\u001b[0m \u001b[43m    \u001b[49m\u001b[43mfilesystem\u001b[49m\u001b[43m,\u001b[49m\n\u001b[0;32m    270\u001b[0m \u001b[43m    \u001b[49m\u001b[43mstorage_options\u001b[49m\u001b[38;5;241;43m=\u001b[39;49m\u001b[43mstorage_options\u001b[49m\u001b[43m,\u001b[49m\n\u001b[0;32m    271\u001b[0m \u001b[43m    \u001b[49m\u001b[43mmode\u001b[49m\u001b[38;5;241;43m=\u001b[39;49m\u001b[38;5;124;43m\"\u001b[39;49m\u001b[38;5;124;43mrb\u001b[39;49m\u001b[38;5;124;43m\"\u001b[39;49m\u001b[43m,\u001b[49m\n\u001b[0;32m    272\u001b[0m \u001b[43m\u001b[49m\u001b[43m)\u001b[49m\n\u001b[0;32m    273\u001b[0m \u001b[38;5;28;01mtry\u001b[39;00m:\n\u001b[0;32m    274\u001b[0m     pa_table \u001b[38;5;241m=\u001b[39m \u001b[38;5;28mself\u001b[39m\u001b[38;5;241m.\u001b[39mapi\u001b[38;5;241m.\u001b[39mparquet\u001b[38;5;241m.\u001b[39mread_table(\n\u001b[0;32m    275\u001b[0m         path_or_handle,\n\u001b[0;32m    276\u001b[0m         columns\u001b[38;5;241m=\u001b[39mcolumns,\n\u001b[1;32m   (...)\u001b[0m\n\u001b[0;32m    279\u001b[0m         \u001b[38;5;241m*\u001b[39m\u001b[38;5;241m*\u001b[39mkwargs,\n\u001b[0;32m    280\u001b[0m     )\n",
      "File \u001b[1;32mc:\\Users\\Manuel\\Desktop\\HENRY\\Proyecto1\\Lib\\site-packages\\pandas\\io\\parquet.py:140\u001b[0m, in \u001b[0;36m_get_path_or_handle\u001b[1;34m(path, fs, storage_options, mode, is_dir)\u001b[0m\n\u001b[0;32m    130\u001b[0m handles \u001b[38;5;241m=\u001b[39m \u001b[38;5;28;01mNone\u001b[39;00m\n\u001b[0;32m    131\u001b[0m \u001b[38;5;28;01mif\u001b[39;00m (\n\u001b[0;32m    132\u001b[0m     \u001b[38;5;129;01mnot\u001b[39;00m fs\n\u001b[0;32m    133\u001b[0m     \u001b[38;5;129;01mand\u001b[39;00m \u001b[38;5;129;01mnot\u001b[39;00m is_dir\n\u001b[1;32m   (...)\u001b[0m\n\u001b[0;32m    138\u001b[0m     \u001b[38;5;66;03m# fsspec resources can also point to directories\u001b[39;00m\n\u001b[0;32m    139\u001b[0m     \u001b[38;5;66;03m# this branch is used for example when reading from non-fsspec URLs\u001b[39;00m\n\u001b[1;32m--> 140\u001b[0m     handles \u001b[38;5;241m=\u001b[39m \u001b[43mget_handle\u001b[49m\u001b[43m(\u001b[49m\n\u001b[0;32m    141\u001b[0m \u001b[43m        \u001b[49m\u001b[43mpath_or_handle\u001b[49m\u001b[43m,\u001b[49m\u001b[43m \u001b[49m\u001b[43mmode\u001b[49m\u001b[43m,\u001b[49m\u001b[43m \u001b[49m\u001b[43mis_text\u001b[49m\u001b[38;5;241;43m=\u001b[39;49m\u001b[38;5;28;43;01mFalse\u001b[39;49;00m\u001b[43m,\u001b[49m\u001b[43m \u001b[49m\u001b[43mstorage_options\u001b[49m\u001b[38;5;241;43m=\u001b[39;49m\u001b[43mstorage_options\u001b[49m\n\u001b[0;32m    142\u001b[0m \u001b[43m    \u001b[49m\u001b[43m)\u001b[49m\n\u001b[0;32m    143\u001b[0m     fs \u001b[38;5;241m=\u001b[39m \u001b[38;5;28;01mNone\u001b[39;00m\n\u001b[0;32m    144\u001b[0m     path_or_handle \u001b[38;5;241m=\u001b[39m handles\u001b[38;5;241m.\u001b[39mhandle\n",
      "File \u001b[1;32mc:\\Users\\Manuel\\Desktop\\HENRY\\Proyecto1\\Lib\\site-packages\\pandas\\io\\common.py:882\u001b[0m, in \u001b[0;36mget_handle\u001b[1;34m(path_or_buf, mode, encoding, compression, memory_map, is_text, errors, storage_options)\u001b[0m\n\u001b[0;32m    873\u001b[0m         handle \u001b[38;5;241m=\u001b[39m \u001b[38;5;28mopen\u001b[39m(\n\u001b[0;32m    874\u001b[0m             handle,\n\u001b[0;32m    875\u001b[0m             ioargs\u001b[38;5;241m.\u001b[39mmode,\n\u001b[1;32m   (...)\u001b[0m\n\u001b[0;32m    878\u001b[0m             newline\u001b[38;5;241m=\u001b[39m\u001b[38;5;124m\"\u001b[39m\u001b[38;5;124m\"\u001b[39m,\n\u001b[0;32m    879\u001b[0m         )\n\u001b[0;32m    880\u001b[0m     \u001b[38;5;28;01melse\u001b[39;00m:\n\u001b[0;32m    881\u001b[0m         \u001b[38;5;66;03m# Binary mode\u001b[39;00m\n\u001b[1;32m--> 882\u001b[0m         handle \u001b[38;5;241m=\u001b[39m \u001b[38;5;28mopen\u001b[39m(handle, ioargs\u001b[38;5;241m.\u001b[39mmode)\n\u001b[0;32m    883\u001b[0m     handles\u001b[38;5;241m.\u001b[39mappend(handle)\n\u001b[0;32m    885\u001b[0m \u001b[38;5;66;03m# Convert BytesIO or file objects passed with an encoding\u001b[39;00m\n",
      "\u001b[1;31mFileNotFoundError\u001b[0m: [Errno 2] No such file or directory: 'archivos_parquet/item_sim_df.parquet'"
     ]
    }
   ],
   "source": [
    "recomendacion_juego(643980)"
   ]
  },
  {
   "cell_type": "code",
   "execution_count": 26,
   "metadata": {},
   "outputs": [
    {
     "data": {
      "text/plain": [
       "{'valve': ['Negative = 588', 'Positive = 2559']}"
      ]
     },
     "execution_count": 26,
     "metadata": {},
     "output_type": "execute_result"
    }
   ],
   "source": [
    "developer_reviews_analysis('Valve')"
   ]
  },
  {
   "cell_type": "code",
   "execution_count": 4,
   "metadata": {},
   "outputs": [
    {
     "data": {
      "text/plain": [
       "{'Dinero Gastado': '978 USD',\n",
       " '% de recomendación': '3.0 %',\n",
       " 'Cantidad de items': 119}"
      ]
     },
     "execution_count": 4,
     "metadata": {},
     "output_type": "execute_result"
    }
   ],
   "source": [
    "userdata('Darkjet15')"
   ]
  },
  {
   "cell_type": "code",
   "execution_count": 5,
   "metadata": {},
   "outputs": [
    {
     "data": {
      "text/plain": [
       "{'Usuario con más horas jugadas para el género: Action': 'Sp3ctre',\n",
       " 'Horas jugadas': {0: 109,\n",
       "  1993: 0,\n",
       "  1995: 3,\n",
       "  1996: 0,\n",
       "  1998: 0,\n",
       "  1999: 0,\n",
       "  2000: 1177,\n",
       "  2001: 0,\n",
       "  2002: 3,\n",
       "  2003: 127,\n",
       "  2004: 2122,\n",
       "  2005: 355,\n",
       "  2006: 13,\n",
       "  2007: 1878,\n",
       "  2008: 3,\n",
       "  2009: 1803,\n",
       "  2010: 1297,\n",
       "  2011: 2574,\n",
       "  2012: 6291,\n",
       "  2013: 1998,\n",
       "  2014: 2165,\n",
       "  2015: 5110,\n",
       "  2016: 488,\n",
       "  2017: 720}}"
      ]
     },
     "execution_count": 5,
     "metadata": {},
     "output_type": "execute_result"
    }
   ],
   "source": [
    "UserForGenre('Action')"
   ]
  },
  {
   "cell_type": "code",
   "execution_count": 17,
   "metadata": {},
   "outputs": [
    {
     "ename": "UFuncTypeError",
     "evalue": "ufunc 'add' did not contain a loop with signature matching types (dtype('int32'), dtype('<U1')) -> None",
     "output_type": "error",
     "traceback": [
      "\u001b[1;31m---------------------------------------------------------------------------\u001b[0m",
      "\u001b[1;31mUFuncTypeError\u001b[0m                            Traceback (most recent call last)",
      "Cell \u001b[1;32mIn[17], line 1\u001b[0m\n\u001b[1;32m----> 1\u001b[0m \u001b[43mdeveloper\u001b[49m\u001b[43m(\u001b[49m\u001b[38;5;124;43m'\u001b[39;49m\u001b[38;5;124;43mValve\u001b[39;49m\u001b[38;5;124;43m'\u001b[39;49m\u001b[43m)\u001b[49m\n",
      "Cell \u001b[1;32mIn[16], line 28\u001b[0m, in \u001b[0;36mdeveloper\u001b[1;34m(desarrollador)\u001b[0m\n\u001b[0;32m     26\u001b[0m cantidad_gratis_por_año \u001b[38;5;241m=\u001b[39m data_filtrada[data_filtrada[\u001b[38;5;124m'\u001b[39m\u001b[38;5;124mprice\u001b[39m\u001b[38;5;124m'\u001b[39m] \u001b[38;5;241m==\u001b[39m \u001b[38;5;241m0.0\u001b[39m]\u001b[38;5;241m.\u001b[39mgroupby(\u001b[38;5;124m'\u001b[39m\u001b[38;5;124maño_lanzamiento\u001b[39m\u001b[38;5;124m'\u001b[39m)[\u001b[38;5;124m'\u001b[39m\u001b[38;5;124mitem_id\u001b[39m\u001b[38;5;124m'\u001b[39m]\u001b[38;5;241m.\u001b[39mcount()\n\u001b[0;32m     27\u001b[0m \u001b[38;5;66;03m# Calcula el porcentaje de elementos gratis por año\u001b[39;00m\n\u001b[1;32m---> 28\u001b[0m porcentaje_gratis_por_año \u001b[38;5;241m=\u001b[39m \u001b[43m(\u001b[49m\u001b[43mcantidad_gratis_por_año\u001b[49m\u001b[43m \u001b[49m\u001b[38;5;241;43m/\u001b[39;49m\u001b[43m \u001b[49m\u001b[43mcantidad_por_año\u001b[49m\u001b[43m \u001b[49m\u001b[38;5;241;43m*\u001b[39;49m\u001b[43m \u001b[49m\u001b[38;5;241;43m100\u001b[39;49m\u001b[43m)\u001b[49m\u001b[38;5;241;43m.\u001b[39;49m\u001b[43mfillna\u001b[49m\u001b[43m(\u001b[49m\u001b[38;5;241;43m0\u001b[39;49m\u001b[43m)\u001b[49m\u001b[38;5;241;43m.\u001b[39;49m\u001b[43mastype\u001b[49m\u001b[43m(\u001b[49m\u001b[38;5;28;43mint\u001b[39;49m\u001b[43m)\u001b[49m\u001b[43m \u001b[49m\u001b[38;5;241;43m+\u001b[39;49m\u001b[38;5;124;43m'\u001b[39;49m\u001b[38;5;124;43m%\u001b[39;49m\u001b[38;5;124;43m'\u001b[39;49m\n\u001b[0;32m     30\u001b[0m result_dict \u001b[38;5;241m=\u001b[39m {\n\u001b[0;32m     31\u001b[0m     \u001b[38;5;124m'\u001b[39m\u001b[38;5;124mcantidad_items_por_año\u001b[39m\u001b[38;5;124m'\u001b[39m: cantidad_por_año\u001b[38;5;241m.\u001b[39mto_dict(),\n\u001b[0;32m     32\u001b[0m     \u001b[38;5;124m'\u001b[39m\u001b[38;5;124mporcentaje_gratis_por_año\u001b[39m\u001b[38;5;124m'\u001b[39m: porcentaje_gratis_por_año\u001b[38;5;241m.\u001b[39mto_dict() \n\u001b[0;32m     33\u001b[0m }\n\u001b[0;32m     35\u001b[0m \u001b[38;5;28;01mreturn\u001b[39;00m result_dict\n",
      "File \u001b[1;32mc:\\Users\\Manuel\\Desktop\\HENRY\\Proyecto1\\Lib\\site-packages\\pandas\\core\\ops\\common.py:76\u001b[0m, in \u001b[0;36m_unpack_zerodim_and_defer.<locals>.new_method\u001b[1;34m(self, other)\u001b[0m\n\u001b[0;32m     72\u001b[0m             \u001b[38;5;28;01mreturn\u001b[39;00m \u001b[38;5;28mNotImplemented\u001b[39m\n\u001b[0;32m     74\u001b[0m other \u001b[38;5;241m=\u001b[39m item_from_zerodim(other)\n\u001b[1;32m---> 76\u001b[0m \u001b[38;5;28;01mreturn\u001b[39;00m \u001b[43mmethod\u001b[49m\u001b[43m(\u001b[49m\u001b[38;5;28;43mself\u001b[39;49m\u001b[43m,\u001b[49m\u001b[43m \u001b[49m\u001b[43mother\u001b[49m\u001b[43m)\u001b[49m\n",
      "File \u001b[1;32mc:\\Users\\Manuel\\Desktop\\HENRY\\Proyecto1\\Lib\\site-packages\\pandas\\core\\arraylike.py:186\u001b[0m, in \u001b[0;36mOpsMixin.__add__\u001b[1;34m(self, other)\u001b[0m\n\u001b[0;32m     98\u001b[0m \u001b[38;5;129m@unpack_zerodim_and_defer\u001b[39m(\u001b[38;5;124m\"\u001b[39m\u001b[38;5;124m__add__\u001b[39m\u001b[38;5;124m\"\u001b[39m)\n\u001b[0;32m     99\u001b[0m \u001b[38;5;28;01mdef\u001b[39;00m \u001b[38;5;21m__add__\u001b[39m(\u001b[38;5;28mself\u001b[39m, other):\n\u001b[0;32m    100\u001b[0m \u001b[38;5;250m    \u001b[39m\u001b[38;5;124;03m\"\"\"\u001b[39;00m\n\u001b[0;32m    101\u001b[0m \u001b[38;5;124;03m    Get Addition of DataFrame and other, column-wise.\u001b[39;00m\n\u001b[0;32m    102\u001b[0m \n\u001b[1;32m   (...)\u001b[0m\n\u001b[0;32m    184\u001b[0m \u001b[38;5;124;03m    moose     3.0     NaN\u001b[39;00m\n\u001b[0;32m    185\u001b[0m \u001b[38;5;124;03m    \"\"\"\u001b[39;00m\n\u001b[1;32m--> 186\u001b[0m     \u001b[38;5;28;01mreturn\u001b[39;00m \u001b[38;5;28;43mself\u001b[39;49m\u001b[38;5;241;43m.\u001b[39;49m\u001b[43m_arith_method\u001b[49m\u001b[43m(\u001b[49m\u001b[43mother\u001b[49m\u001b[43m,\u001b[49m\u001b[43m \u001b[49m\u001b[43moperator\u001b[49m\u001b[38;5;241;43m.\u001b[39;49m\u001b[43madd\u001b[49m\u001b[43m)\u001b[49m\n",
      "File \u001b[1;32mc:\\Users\\Manuel\\Desktop\\HENRY\\Proyecto1\\Lib\\site-packages\\pandas\\core\\series.py:6115\u001b[0m, in \u001b[0;36mSeries._arith_method\u001b[1;34m(self, other, op)\u001b[0m\n\u001b[0;32m   6113\u001b[0m \u001b[38;5;28;01mdef\u001b[39;00m \u001b[38;5;21m_arith_method\u001b[39m(\u001b[38;5;28mself\u001b[39m, other, op):\n\u001b[0;32m   6114\u001b[0m     \u001b[38;5;28mself\u001b[39m, other \u001b[38;5;241m=\u001b[39m \u001b[38;5;28mself\u001b[39m\u001b[38;5;241m.\u001b[39m_align_for_op(other)\n\u001b[1;32m-> 6115\u001b[0m     \u001b[38;5;28;01mreturn\u001b[39;00m \u001b[43mbase\u001b[49m\u001b[38;5;241;43m.\u001b[39;49m\u001b[43mIndexOpsMixin\u001b[49m\u001b[38;5;241;43m.\u001b[39;49m\u001b[43m_arith_method\u001b[49m\u001b[43m(\u001b[49m\u001b[38;5;28;43mself\u001b[39;49m\u001b[43m,\u001b[49m\u001b[43m \u001b[49m\u001b[43mother\u001b[49m\u001b[43m,\u001b[49m\u001b[43m \u001b[49m\u001b[43mop\u001b[49m\u001b[43m)\u001b[49m\n",
      "File \u001b[1;32mc:\\Users\\Manuel\\Desktop\\HENRY\\Proyecto1\\Lib\\site-packages\\pandas\\core\\base.py:1382\u001b[0m, in \u001b[0;36mIndexOpsMixin._arith_method\u001b[1;34m(self, other, op)\u001b[0m\n\u001b[0;32m   1379\u001b[0m     rvalues \u001b[38;5;241m=\u001b[39m np\u001b[38;5;241m.\u001b[39marange(rvalues\u001b[38;5;241m.\u001b[39mstart, rvalues\u001b[38;5;241m.\u001b[39mstop, rvalues\u001b[38;5;241m.\u001b[39mstep)\n\u001b[0;32m   1381\u001b[0m \u001b[38;5;28;01mwith\u001b[39;00m np\u001b[38;5;241m.\u001b[39merrstate(\u001b[38;5;28mall\u001b[39m\u001b[38;5;241m=\u001b[39m\u001b[38;5;124m\"\u001b[39m\u001b[38;5;124mignore\u001b[39m\u001b[38;5;124m\"\u001b[39m):\n\u001b[1;32m-> 1382\u001b[0m     result \u001b[38;5;241m=\u001b[39m \u001b[43mops\u001b[49m\u001b[38;5;241;43m.\u001b[39;49m\u001b[43marithmetic_op\u001b[49m\u001b[43m(\u001b[49m\u001b[43mlvalues\u001b[49m\u001b[43m,\u001b[49m\u001b[43m \u001b[49m\u001b[43mrvalues\u001b[49m\u001b[43m,\u001b[49m\u001b[43m \u001b[49m\u001b[43mop\u001b[49m\u001b[43m)\u001b[49m\n\u001b[0;32m   1384\u001b[0m \u001b[38;5;28;01mreturn\u001b[39;00m \u001b[38;5;28mself\u001b[39m\u001b[38;5;241m.\u001b[39m_construct_result(result, name\u001b[38;5;241m=\u001b[39mres_name)\n",
      "File \u001b[1;32mc:\\Users\\Manuel\\Desktop\\HENRY\\Proyecto1\\Lib\\site-packages\\pandas\\core\\ops\\array_ops.py:283\u001b[0m, in \u001b[0;36marithmetic_op\u001b[1;34m(left, right, op)\u001b[0m\n\u001b[0;32m    279\u001b[0m     _bool_arith_check(op, left, right)  \u001b[38;5;66;03m# type: ignore[arg-type]\u001b[39;00m\n\u001b[0;32m    281\u001b[0m     \u001b[38;5;66;03m# error: Argument 1 to \"_na_arithmetic_op\" has incompatible type\u001b[39;00m\n\u001b[0;32m    282\u001b[0m     \u001b[38;5;66;03m# \"Union[ExtensionArray, ndarray[Any, Any]]\"; expected \"ndarray[Any, Any]\"\u001b[39;00m\n\u001b[1;32m--> 283\u001b[0m     res_values \u001b[38;5;241m=\u001b[39m \u001b[43m_na_arithmetic_op\u001b[49m\u001b[43m(\u001b[49m\u001b[43mleft\u001b[49m\u001b[43m,\u001b[49m\u001b[43m \u001b[49m\u001b[43mright\u001b[49m\u001b[43m,\u001b[49m\u001b[43m \u001b[49m\u001b[43mop\u001b[49m\u001b[43m)\u001b[49m  \u001b[38;5;66;03m# type: ignore[arg-type]\u001b[39;00m\n\u001b[0;32m    285\u001b[0m \u001b[38;5;28;01mreturn\u001b[39;00m res_values\n",
      "File \u001b[1;32mc:\\Users\\Manuel\\Desktop\\HENRY\\Proyecto1\\Lib\\site-packages\\pandas\\core\\ops\\array_ops.py:218\u001b[0m, in \u001b[0;36m_na_arithmetic_op\u001b[1;34m(left, right, op, is_cmp)\u001b[0m\n\u001b[0;32m    215\u001b[0m     func \u001b[38;5;241m=\u001b[39m partial(expressions\u001b[38;5;241m.\u001b[39mevaluate, op)\n\u001b[0;32m    217\u001b[0m \u001b[38;5;28;01mtry\u001b[39;00m:\n\u001b[1;32m--> 218\u001b[0m     result \u001b[38;5;241m=\u001b[39m \u001b[43mfunc\u001b[49m\u001b[43m(\u001b[49m\u001b[43mleft\u001b[49m\u001b[43m,\u001b[49m\u001b[43m \u001b[49m\u001b[43mright\u001b[49m\u001b[43m)\u001b[49m\n\u001b[0;32m    219\u001b[0m \u001b[38;5;28;01mexcept\u001b[39;00m \u001b[38;5;167;01mTypeError\u001b[39;00m:\n\u001b[0;32m    220\u001b[0m     \u001b[38;5;28;01mif\u001b[39;00m \u001b[38;5;129;01mnot\u001b[39;00m is_cmp \u001b[38;5;129;01mand\u001b[39;00m (\n\u001b[0;32m    221\u001b[0m         left\u001b[38;5;241m.\u001b[39mdtype \u001b[38;5;241m==\u001b[39m \u001b[38;5;28mobject\u001b[39m \u001b[38;5;129;01mor\u001b[39;00m \u001b[38;5;28mgetattr\u001b[39m(right, \u001b[38;5;124m\"\u001b[39m\u001b[38;5;124mdtype\u001b[39m\u001b[38;5;124m\"\u001b[39m, \u001b[38;5;28;01mNone\u001b[39;00m) \u001b[38;5;241m==\u001b[39m \u001b[38;5;28mobject\u001b[39m\n\u001b[0;32m    222\u001b[0m     ):\n\u001b[1;32m   (...)\u001b[0m\n\u001b[0;32m    225\u001b[0m         \u001b[38;5;66;03m# Don't do this for comparisons, as that will handle complex numbers\u001b[39;00m\n\u001b[0;32m    226\u001b[0m         \u001b[38;5;66;03m#  incorrectly, see GH#32047\u001b[39;00m\n",
      "\u001b[1;31mUFuncTypeError\u001b[0m: ufunc 'add' did not contain a loop with signature matching types (dtype('int32'), dtype('<U1')) -> None"
     ]
    }
   ],
   "source": [
    "developer('Valve')"
   ]
  },
  {
   "cell_type": "code",
   "execution_count": null,
   "metadata": {},
   "outputs": [
    {
     "data": {
      "text/plain": [
       "[{'Puesto 1': 'Valve'},\n",
       " {'Puesto 2': 'Wild Shadow Studios'},\n",
       " {'Puesto 3': 'Jagex Limited'}]"
      ]
     },
     "execution_count": 28,
     "metadata": {},
     "output_type": "execute_result"
    }
   ],
   "source": [
    "get_worst_developer(2012)"
   ]
  },
  {
   "cell_type": "code",
   "execution_count": null,
   "metadata": {},
   "outputs": [
    {
     "data": {
      "text/plain": [
       "[{'Puesto 1': 'Valve'},\n",
       " {'Puesto 2': 'Gearbox Software,Aspyr (Mac &amp; Linux)'},\n",
       " {'Puesto 3': 'Daybreak Game Company'}]"
      ]
     },
     "execution_count": 29,
     "metadata": {},
     "output_type": "execute_result"
    }
   ],
   "source": [
    "get_best_developer(2012)"
   ]
  },
  {
   "cell_type": "code",
   "execution_count": null,
   "metadata": {},
   "outputs": [
    {
     "data": {
      "text/plain": [
       "[{'Puesto 1': 'Counter-Strike: Global Offensive'},\n",
       " {'Puesto 2': 'Borderlands 2'},\n",
       " {'Puesto 3': 'PlanetSide 2'}]"
      ]
     },
     "execution_count": 73,
     "metadata": {},
     "output_type": "execute_result"
    }
   ],
   "source": [
    "get_users_recommend(2012)"
   ]
  }
 ],
 "metadata": {
  "kernelspec": {
   "display_name": "Proyecto1",
   "language": "python",
   "name": "python3"
  },
  "language_info": {
   "codemirror_mode": {
    "name": "ipython",
    "version": 3
   },
   "file_extension": ".py",
   "mimetype": "text/x-python",
   "name": "python",
   "nbconvert_exporter": "python",
   "pygments_lexer": "ipython3",
   "version": "3.11.4"
  }
 },
 "nbformat": 4,
 "nbformat_minor": 2
}
